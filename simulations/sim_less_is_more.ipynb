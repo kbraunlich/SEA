{
 "cells": [
  {
   "cell_type": "code",
   "execution_count": 4,
   "metadata": {},
   "outputs": [],
   "source": [
    "'''A simple simulation to demonstrate active sampling in high dimensions.\n",
    "As full preposterior inference imposes excessive computational demands, \n",
    "a myopic sampling strategy is used (MAX_RECURSION_LEVEL=0).\n",
    "'''\n",
    "\n",
    "%matplotlib inline\n",
    "import numpy as np\n",
    "import os\n",
    "import matplotlib.pyplot as plt\n",
    "import pandas as pd\n",
    "from tqdm import tqdm\n",
    "import sys\n",
    "import glob\n",
    "sys.path.append('..')\n",
    "import sea\n"
   ]
  },
  {
   "cell_type": "code",
   "execution_count": 2,
   "metadata": {},
   "outputs": [],
   "source": [
    "# %% simulation parameters\n",
    "\n",
    "param = {\n",
    "    'MAX_RECURSION_LEVEL':  0,  # 0 is myopic\n",
    "    'EXPLORATION_PARAM':    0.0,\n",
    "    'DECISION_PARAMETER':   1.0,\n",
    "    'TOTAL_BLOCKS':         100,\n",
    "    'CONSEC_BLOCKS':        2,\n",
    "    'num_dims':             100,\n",
    "    'num_values':           2,\n",
    "    'coupling':             .3,\n",
    "    'd':                    1.0,\n",
    "    'report':               False,\n",
    "    'NUM_TIMES':            5,\n",
    "    'TRIAL_PER_BLOCK':      10,\n",
    "}\n",
    "\n",
    "param['prior_matrix'] = np.array([[1.0, 1.0]] * param['num_dims'])\n",
    "param['prior_matrix'][0, :] = .01\n"
   ]
  },
  {
   "cell_type": "code",
   "execution_count": 3,
   "metadata": {},
   "outputs": [],
   "source": [
    "# functions for computing utility:\n",
    "\n",
    "\n",
    "def getSituationCost(KNOWN_VEC, param):\n",
    "    '''function to calculate costs for a given KNOWN_VEC (see RMC.SituationValue)\n",
    "\n",
    "    This function assumes equal costs for each query. Can be modified for\n",
    "    tasks in which some tests are more costly than others, or when sampling costs\n",
    "    are not independent.'''\n",
    "\n",
    "    return np.sum(KNOWN_VEC) * 0\n",
    "\n",
    "\n",
    "def dfActionVals(param):\n",
    "    '''function to define utility table (e.g., table 1)\n",
    "\n",
    "    When asym is True, this currently maximizes accuracy (i.e., correct=100\n",
    "    utility units, incorrect=0 utility units).\n",
    "\n",
    "    This function should be modified to reflect utility and cost associated\n",
    "    with the final choice.'''\n",
    "\n",
    "    m = np.diag([100] * param['num_values'])\n",
    "    df = pd.DataFrame(index=['s%d' % a for a in range(param['num_values'])],\n",
    "                      columns=['a%d' % a for a in range(param['num_values'])],\n",
    "                      data=m)\n",
    "    return df\n",
    "\n",
    "\n",
    "param['getSituationCost'] = getSituationCost\n",
    "param['dfActionVals'] = dfActionVals(param)\n"
   ]
  },
  {
   "cell_type": "code",
   "execution_count": 4,
   "metadata": {
    "scrolled": true
   },
   "outputs": [
    {
     "name": "stderr",
     "output_type": "stream",
     "text": [
      "\r",
      "run2:   0%|          | 0/100 [00:00<?, ?it/s]"
     ]
    },
    {
     "name": "stdout",
     "output_type": "stream",
     "text": [
      "run_num0 exists, skipping\n",
      "run_num1 exists, skipping\n"
     ]
    },
    {
     "name": "stderr",
     "output_type": "stream",
     "text": [
      "run2: 100%|██████████| 100/100 [2:22:05<00:00, 98.13s/it] \n",
      "run3: 100%|██████████| 100/100 [2:24:53<00:00, 100.89s/it]\n",
      "run4: 100%|██████████| 100/100 [2:20:01<00:00, 95.98s/it] \n"
     ]
    }
   ],
   "source": [
    "# %% Standard Model(Active Sampling)\n",
    "\n",
    "model = sea.RMC(param)\n",
    "\n",
    "overall_correct = np.zeros([param['TOTAL_BLOCKS']])\n",
    "overall_sampled = np.zeros([param['TOTAL_BLOCKS']])\n",
    "\n",
    "KNOWN = np.ones(model.NUM_DIMS).astype(int)\n",
    "KNOWN[0] = 0    # the category label\n",
    "QUERY = np.zeros(model.NUM_DIMS)\n",
    "QUERY[0] = 1\n",
    "\n",
    "dfC = pd.DataFrame(\n",
    "    index=range(\n",
    "        param['NUM_TIMES']), columns=range(\n",
    "            param['TOTAL_BLOCKS']))\n",
    "dfS = pd.DataFrame(\n",
    "    index=range(\n",
    "        param['NUM_TIMES']), columns=range(\n",
    "            param['TOTAL_BLOCKS']))\n",
    "\n",
    "for run_num in range(param['NUM_TIMES']):\n",
    "    model.Reset()\n",
    "    if os.path.exists('results/dfS_boot%d_nboot%d_cost%d'%(run_num,param['NUM_TIMES'],0)):\n",
    "        print('run_num%d exists, skipping'%run_num)\n",
    "    else:\n",
    "        tr = 0\n",
    "        for num_block in tqdm(range(param['TOTAL_BLOCKS']),\n",
    "                              desc='run%d'%run_num):\n",
    "            nS = 0\n",
    "            nC = 0\n",
    "            for i in range(param['TRIAL_PER_BLOCK']):\n",
    "\n",
    "                tr += 1\n",
    "\n",
    "                STIM = np.random.random(model.NUM_DIMS)\n",
    "                STIM = STIM > .5\n",
    "                if STIM[1]:  # category label.\n",
    "                    STIM[0] = 1\n",
    "                else:\n",
    "                    STIM[0] = 0\n",
    "\n",
    "                STIM = STIM.astype(int)\n",
    "\n",
    "                tempN = model.PresentStimulus(STIM, KNOWN)\n",
    "\n",
    "                SAMPLED_KNOWN = np.zeros(model.NUM_DIMS)\n",
    "                SAMPLED_KNOWN[tempN] = 1\n",
    "\n",
    "                nS += len(tempN)\n",
    "                overall_sampled[num_block] += len(tempN)\n",
    "                vC = model.ResponseCorrectProb(STIM, SAMPLED_KNOWN)\n",
    "                nC += vC\n",
    "                overall_correct[num_block] += vC\n",
    "                model.Learn(STIM, SAMPLED_KNOWN, QUERY)\n",
    "\n",
    "\n",
    "            dfS.loc[run_num, num_block] = nS / param['TRIAL_PER_BLOCK']\n",
    "            dfC.loc[run_num, num_block] = nC / param['TRIAL_PER_BLOCK']\n",
    "        dfC.to_csv('results/dfC_boot%d_nboot%d_cost%d'%(run_num,param['NUM_TIMES'],0))\n",
    "        dfS.to_csv('results/dfS_boot%d_nboot%d_cost%d'%(run_num,param['NUM_TIMES'],0))\n",
    "\n",
    "overall_correct /= (param['TRIAL_PER_BLOCK'] * param['NUM_TIMES'])\n",
    "overall_sampled /= (param['TRIAL_PER_BLOCK'] * param['NUM_TIMES'])\n",
    "\n"
   ]
  },
  {
   "cell_type": "code",
   "execution_count": 31,
   "metadata": {},
   "outputs": [
    {
     "name": "stdout",
     "output_type": "stream",
     "text": [
      "          0         1         2         3         4         5         6  \\\n",
      "0  0.464449  0.659332  0.692889  0.659891  0.580855  0.636382  0.660963   \n",
      "1  0.497479  0.552929  0.618589  0.466172  0.439833  0.585019  0.662416   \n",
      "2  0.440527  0.497594  0.620183  0.552888  0.662054  0.640285  0.647025   \n",
      "3  0.504915  0.505979  0.494813  0.660222  0.663149   0.45278  0.547399   \n",
      "4  0.389877  0.541984  0.655493  0.554733  0.481705  0.592523  0.629895   \n",
      "\n",
      "          7         8         9    ...           90        91        92  \\\n",
      "0  0.690002  0.581003   0.52347    ...     0.749662   0.68177  0.696198   \n",
      "1  0.472186  0.659358  0.573611    ...     0.717602  0.784766  0.740363   \n",
      "2  0.581808  0.642594  0.414033    ...     0.623555  0.786614  0.667256   \n",
      "3  0.672489  0.652004  0.322697    ...     0.798919  0.631538  0.821667   \n",
      "4  0.533084  0.690652  0.497955    ...     0.839389  0.834677  0.838884   \n",
      "\n",
      "         93        94        95        96        97        98        99  \n",
      "0  0.781583   0.57163  0.839145  0.884446  0.875915  0.839465  0.833841  \n",
      "1   0.72041  0.781287  0.799732    0.7977  0.818073  0.727864  0.931587  \n",
      "2  0.686534  0.722888  0.818203  0.750052  0.720753  0.843465    0.7432  \n",
      "3  0.885472  0.757092  0.830896  0.787389  0.806803  0.846143  0.834047  \n",
      "4   0.85651  0.786538  0.726083  0.794639    0.7374  0.766215  0.718764  \n",
      "\n",
      "[5 rows x 100 columns]\n",
      "      0     1     2     3     4     5     6   7     8     9  ...     90    91  \\\n",
      "0    99  95.6    99  94.2    99    99    99  99  98.6    99  ...   90.7  97.9   \n",
      "1  98.6    99    99    99    99  95.1    99  99    99    99  ...   97.6    99   \n",
      "2    99    99    99    99    99    99    99  99    99    99  ...     99  96.5   \n",
      "3    99    99    99    99  94.1    99    99  99    99    99  ...     99  95.4   \n",
      "4    99    99  98.4    99    99  98.7  98.2  99    99  98.6  ...   93.6    99   \n",
      "\n",
      "     92    93    94    95    96    97    98    99  \n",
      "0    99    96    99  96.5  95.3  98.9    99  97.9  \n",
      "1  93.6    99  96.6  96.9  91.6  93.2  97.9  95.7  \n",
      "2    99  92.7  98.3  97.5  98.3  98.4  98.1  93.1  \n",
      "3  98.9  97.3  95.4  94.7  98.1  89.5  97.5  93.2  \n",
      "4  91.3  91.5  90.2  96.5  96.2  91.7    89  98.3  \n",
      "\n",
      "[5 rows x 100 columns]\n"
     ]
    }
   ],
   "source": [
    "ps = np.sort(glob.glob('results/dfC*nboot*'))\n",
    "psS = np.sort(glob.glob('results/dfS*nboot*'))\n",
    "dftmp = pd.read_csv(ps[0],index_col=0)\n",
    "dfC = pd.DataFrame(index=dftmp.index,columns=dftmp.columns)\n",
    "dfS = pd.DataFrame(index=dftmp.index,columns=dftmp.columns)\n",
    "for i,p in enumerate(ps):\n",
    "    dftmp = pd.read_csv(p, index_col=0)\n",
    "    dfC.loc[i,:] =dftmp.loc[i,:]\n",
    "    dftmp = pd.read_csv(psS[i],index_col=0)\n",
    "    dfS.loc[i,:] = dftmp.loc[i,:]\n",
    "print(dfC)\n",
    "dfC.to_csv('results/lessIsMore_dfC_cost0_5runs.csv')\n",
    "print(dfS)\n",
    "dfS.to_csv('results/lessIsMore_dfS_cost0_5runs.csv')"
   ]
  },
  {
   "cell_type": "code",
   "execution_count": 30,
   "metadata": {},
   "outputs": [
    {
     "data": {
      "image/png": "[encoded data removed]",
      "text/plain": [
       "<Figure size 234x180 with 1 Axes>"
      ]
     },
     "metadata": {
      "needs_background": "light"
     },
     "output_type": "display_data"
    },
    {
     "data": {
      "text/plain": [
       "<Figure size 432x288 with 0 Axes>"
      ]
     },
     "metadata": {},
     "output_type": "display_data"
    },
    {
     "data": {
      "image/png": "[encoded data removed]",
      "text/plain": [
       "<Figure size 234x180 with 1 Axes>"
      ]
     },
     "metadata": {
      "needs_background": "light"
     },
     "output_type": "display_data"
    }
   ],
   "source": [
    "# figures\n",
    "\n",
    "bk = 1\n",
    "\n",
    "plt.figure(figsize=(3.25, 2.5))\n",
    "plt.plot(dfC.T, color=['#b3ccff', '#808080']\n",
    "         [bk], linewidth=.3)  # ,legend=False)\n",
    "mn = dfC.mean()\n",
    "plt.plot(mn, ['#0000ff', '#404040'][bk])\n",
    "plt.xlabel('Block')\n",
    "plt.xticks([0,20,40,60,80,100])\n",
    "plt.ylabel('Percent Correct')\n",
    "plt.tight_layout()\n",
    "plt.show();plt.pause(.01)\n",
    "plt.savefig('results/lessIsMore_cost0_numtimes5.png')\n",
    "\n",
    "plt.figure(figsize=(3.25, 2.5))\n",
    "plt.plot(dfS.T, color=['#b3ccff', '#808080']\n",
    "         [bk], linewidth=.3)  # ,legend=False)\n",
    "mn = np.mean(dfS, axis=0).values\n",
    "plt.plot(mn, ['#0000ff', '#404040'][bk])\n",
    "plt.yticks([1, 2, 3, 4])\n",
    "plt.xticks([0,20,40,60,80,100])\n",
    "plt.xlabel('Block')\n",
    "plt.ylabel('Dimensions Sampled')\n",
    "plt.tight_layout()\n",
    "plt.show();plt.pause(.01)\n"
   ]
  },
  {
   "cell_type": "code",
   "execution_count": null,
   "metadata": {},
   "outputs": [],
   "source": []
  },
  {
   "cell_type": "code",
   "execution_count": 6,
   "metadata": {},
   "outputs": [
    {
     "name": "stderr",
     "output_type": "stream",
     "text": [
      "run 0: 100%|██████████| 100/100 [00:01<00:00, 57.54it/s]\n",
      "run 1: 100%|██████████| 100/100 [00:01<00:00, 57.19it/s]\n",
      "run 2: 100%|██████████| 100/100 [00:01<00:00, 56.75it/s]\n",
      "run 3: 100%|██████████| 100/100 [00:01<00:00, 57.53it/s]\n",
      "run 4: 100%|██████████| 100/100 [00:01<00:00, 63.12it/s]\n"
     ]
    }
   ],
   "source": [
    "# %% All Dimensions Sampled:\n",
    "\n",
    "model = sea.RMC(param)\n",
    "\n",
    "overall_correct = np.zeros([param['TOTAL_BLOCKS']])\n",
    "overall_sampled = np.zeros([param['TOTAL_BLOCKS']])\n",
    "\n",
    "KNOWN = np.ones(model.NUM_DIMS).astype(int)\n",
    "KNOWN[0] = 0  # the category label\n",
    "QUERY = np.zeros(model.NUM_DIMS)\n",
    "QUERY[0] = 1\n",
    "\n",
    "dfC = pd.DataFrame(\n",
    "    index=range(\n",
    "        param['NUM_TIMES']), columns=range(\n",
    "            param['TOTAL_BLOCKS']))\n",
    "dfS = pd.DataFrame(\n",
    "    index=range(\n",
    "        param['NUM_TIMES']), columns=range(\n",
    "            param['TOTAL_BLOCKS']))\n",
    "\n",
    "for run_num in range(param['NUM_TIMES']):\n",
    "    model.Reset()\n",
    "    tr = 0\n",
    "    for num_block in tqdm(range(param['TOTAL_BLOCKS']), desc='run %d'%run_num):\n",
    "        nS = 0\n",
    "        nC = 0\n",
    "        for i in range(param['TRIAL_PER_BLOCK']):\n",
    "            tr += 1\n",
    "            # make a stimulus...\n",
    "            STIM = np.random.random(model.NUM_DIMS)\n",
    "            STIM = STIM > .5\n",
    "            if STIM[1]:  # first dimension predicts category label.\n",
    "                STIM[0] = 1\n",
    "            else:\n",
    "                STIM[0] = 0\n",
    "            STIM = STIM.astype(int)\n",
    "\n",
    "            tempN = np.random.permutation(np.arange(1, 100))\n",
    "            nS += len(tempN)\n",
    "\n",
    "            SAMPLED_KNOWN = np.zeros(model.NUM_DIMS)\n",
    "            SAMPLED_KNOWN[tempN] = 1\n",
    "\n",
    "            model.Stimulate(STIM, SAMPLED_KNOWN)\n",
    "\n",
    "            vC = model.ResponseCorrectProb(STIM, SAMPLED_KNOWN)\n",
    "            nC += vC\n",
    "\n",
    "            model.Learn(STIM, SAMPLED_KNOWN, QUERY)\n",
    "\n",
    "        dfS.loc[run_num, num_block] = nS / param['TRIAL_PER_BLOCK']\n",
    "        dfC.loc[run_num, num_block] = nC / param['TRIAL_PER_BLOCK']\n",
    "\n",
    "\n",
    "overall_correct /= (param['TRIAL_PER_BLOCK'] * param['NUM_TIMES'])\n",
    "overall_sampled /= (param['TRIAL_PER_BLOCK'] * param['NUM_TIMES'])\n",
    "\n"
   ]
  },
  {
   "cell_type": "code",
   "execution_count": 7,
   "metadata": {},
   "outputs": [
    {
     "data": {
      "image/png": "[encoded data removed]",
      "text/plain": [
       "<Figure size 234x180 with 1 Axes>"
      ]
     },
     "metadata": {
      "needs_background": "light"
     },
     "output_type": "display_data"
    },
    {
     "data": {
      "image/png": "[encoded data removed]",
      "text/plain": [
       "<Figure size 234x180 with 1 Axes>"
      ]
     },
     "metadata": {
      "needs_background": "light"
     },
     "output_type": "display_data"
    }
   ],
   "source": [
    "# %% figures:\n",
    "plt.close('all')\n",
    "bk = 1\n",
    "\n",
    "plt.figure(figsize=(3.25, 2.5))\n",
    "plt.plot(dfC.T, color=['#b3ccff', '#808080']\n",
    "         [bk], linewidth=.2)  # ,legend=False)\n",
    "mn = dfC.mean()\n",
    "plt.plot(mn, ['#0000ff', '#404040'][bk])\n",
    "plt.xlabel('Block')\n",
    "plt.xticks(np.arange(0, 101, 20))\n",
    "plt.ylabel('Percent Correct')\n",
    "plt.tight_layout()\n",
    "\n",
    "plt.figure(figsize=(3.25, 2.5))\n",
    "plt.plot(dfS.T, color=['#b3ccff', '#808080'][bk], linewidth=.2)\n",
    "plt.xticks(np.arange(0, 101, 20))\n",
    "mn = np.mean(dfS, axis=0).values\n",
    "plt.plot(mn, ['#0000ff', '#404040'][bk])\n",
    "plt.yticks(np.arange(0, 101, 20))\n",
    "plt.xlabel('Block')\n",
    "plt.ylabel('Dimensions Sampled')\n",
    "plt.tight_layout()\n",
    "\n"
   ]
  },
  {
   "cell_type": "code",
   "execution_count": 6,
   "metadata": {},
   "outputs": [
    {
     "data": {
      "text/plain": [
       "False"
      ]
     },
     "execution_count": 6,
     "metadata": {},
     "output_type": "execute_result"
    }
   ],
   "source": [
    "os.path.exists('results/dfS_boot%d_nboot%d_cost%d'%(run_num,param['NUM_TIMES'],0))"
   ]
  },
  {
   "cell_type": "code",
   "execution_count": 8,
   "metadata": {},
   "outputs": [
    {
     "data": {
      "text/plain": [
       "'results/dfS_boot0_nboot5_cost0'"
      ]
     },
     "execution_count": 8,
     "metadata": {},
     "output_type": "execute_result"
    }
   ],
   "source": [
    "'results/dfS_boot%d_nboot%d_cost%d'%(run_num,param['NUM_TIMES'],0)"
   ]
  },
  {
   "cell_type": "code",
   "execution_count": 9,
   "metadata": {},
   "outputs": [
    {
     "name": "stdout",
     "output_type": "stream",
     "text": [
      "\u001b[0m\u001b[01;34mbehavioral_results\u001b[0m/  sim_54.ipynb          sim_less_is_more.ipynb\r\n",
      "\u001b[01;34mpast_samples\u001b[0m/        sim_54.py             sim_rulex.ipynb\r\n",
      "\u001b[01;34mresults\u001b[0m/             sim_Blair_exp2.ipynb  sim_Shepard_Hovland_Jenkins.ipynb\r\n"
     ]
    }
   ],
   "source": [
    "ls\n"
   ]
  },
  {
   "cell_type": "code",
   "execution_count": null,
   "metadata": {},
   "outputs": [],
   "source": []
  }
 ],
 "metadata": {
  "kernelspec": {
   "display_name": "Python 3",
   "language": "python",
   "name": "python3"
  },
  "language_info": {
   "codemirror_mode": {
    "name": "ipython",
    "version": 3
   },
   "file_extension": ".py",
   "mimetype": "text/x-python",
   "name": "python",
   "nbconvert_exporter": "python",
   "pygments_lexer": "ipython3",
   "version": "3.7.2"
  }
 },
 "nbformat": 4,
 "nbformat_minor": 2
}
