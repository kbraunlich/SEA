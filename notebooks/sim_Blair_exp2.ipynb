{
 "cells": [
  {
   "cell_type": "code",
   "execution_count": 1,
   "metadata": {},
   "outputs": [],
   "source": [
    "#!/usr/bin/env python\n",
    "'''\n",
    "Blair, M. R., Marcus R. Watson, R. Calen Walshe, & Fillip Maj. (2009). \n",
    "Extremely Selective Attention: Eye-Tracking Studies of the Dynamic Allocation \n",
    "of Attention to Stimulus Features in Categorization. Journal of Experimental \n",
    "Psychology: Learning, Memory, and Cognition 35(5), 1196–1206. \n",
    "https://doi.org/10.1037/a0016272.\n",
    "'''\n",
    "import numpy as np\n",
    "import seaborn as sns\n",
    "import matplotlib.pyplot as plt\n",
    "import pandas as pd\n",
    "from tqdm import tqdm\n",
    "import sys\n",
    "sys.path.append('..')\n",
    "import sea"
   ]
  },
  {
   "cell_type": "code",
   "execution_count": 2,
   "metadata": {},
   "outputs": [],
   "source": [
    "# %% simulation parameters\n",
    "param = {\n",
    "    # how many steps one looksahead? 0 is myopic (1 step ahead) and so on..\n",
    "    'MAX_RECURSION_LEVEL':  0,\n",
    "    'EXPLORATION_PARAM':    0.0,\n",
    "    'DECISION_PARAMETER':   1.0,\n",
    "    'TOTAL_BLOCKS':         25,\n",
    "    'CONSEC_BLOCKS':        3,\n",
    "    'prior_matrix':         np.array([[.01, .01, .01, .01],\n",
    "                              [1.0, 1.0, .00001, .00001],\n",
    "                              [1.0, 1.0, .00001, .00001],\n",
    "                              [1.0, 1.0, .00001, .00001]]),\n",
    "    'num_dims':             4,\n",
    "    'num_values':           4,\n",
    "    'coupling':             .3,\n",
    "    'd':                    1.0,\n",
    "    'report':               False,\n",
    "    'NUM_TIMES':            5,\n",
    "}\n",
    "\n",
    "# binary feature (one unit) for the first three dims and two features for\n",
    "# the output\n",
    "BLAIR_STIM = np.array([[0, 0, 0, 0],  # type 1\n",
    "                       [0, 0, 0, 1],\n",
    "                       [1, 0, 1, 0],\n",
    "                       [1, 0, 1, 1],\n",
    "                       [2, 1, 0, 0],\n",
    "                       [2, 1, 1, 0],\n",
    "                       [3, 1, 0, 1],\n",
    "                       [3, 1, 1, 1]])\n",
    "\n",
    "# which features are known when stimulus is presented?\n",
    "BLAIR_KNOWN = np.array([[0, 1, 1, 1],\n",
    "                        [0, 1, 1, 1],\n",
    "                        [0, 1, 1, 1],\n",
    "                        [0, 1, 1, 1],\n",
    "                        [0, 1, 1, 1],\n",
    "                        [0, 1, 1, 1],\n",
    "                        [0, 1, 1, 1],\n",
    "                        [0, 1, 1, 1]])\n",
    "\n",
    "ALL_KNOWN = np.array([1, 1, 1, 1])\n",
    "\n",
    "# what feature is unknown?\n",
    "BLAIR_QUERY = np.array([[1, 0, 0, 0],\n",
    "                        [1, 0, 0, 0],\n",
    "                        [1, 0, 0, 0],\n",
    "                        [1, 0, 0, 0],\n",
    "                        [1, 0, 0, 0],\n",
    "                        [1, 0, 0, 0],\n",
    "                        [1, 0, 0, 0],\n",
    "                        [1, 0, 0, 0]])\n",
    "\n",
    "\n",
    "# % functions for computing utility:\n",
    "\n",
    "def getSituationCost(KNOWN_VEC, param):\n",
    "    '''function to calculate costs for a given KNOWN_VEC (see RMC.SituationValue)\n",
    "\n",
    "    This function assumes equal costs for each query. Can be modified for\n",
    "    tasks in which some tests are more costly than others, or when sampling costs\n",
    "    are not independent.'''\n",
    "\n",
    "    return np.sum(KNOWN_VEC) * 10  # 10 is sampling cost used in paper\n",
    "\n",
    "\n",
    "def dfActionVals(param):\n",
    "    '''function to define utility table (e.g., table 1)\n",
    "\n",
    "    When asym is True, this currently maximizes accuracy (i.e., correct=100\n",
    "    utility units, incorrect=0 utility units).\n",
    "\n",
    "    This function should be modified to reflect utility and cost associated\n",
    "    with the final choice.'''\n",
    "\n",
    "    m = np.diag([100] * param['num_values'])\n",
    "    df = pd.DataFrame(index=['s%d' % a for a in range(param['num_values'])],\n",
    "                      columns=['a%d' % a for a in range(param['num_values'])],\n",
    "                      data=m)\n",
    "    return df\n",
    "\n",
    "\n",
    "param['getSituationCost'] = getSituationCost\n",
    "param['dfActionVals'] = dfActionVals(param)\n"
   ]
  },
  {
   "cell_type": "code",
   "execution_count": 3,
   "metadata": {},
   "outputs": [
    {
     "name": "stderr",
     "output_type": "stream",
     "text": [
      "run 0: 100%|██████████| 25/25 [00:02<00:00, 12.05it/s]\n",
      "run 1:  88%|████████▊ | 22/25 [00:01<00:00, 12.17it/s]\n"
     ]
    },
    {
     "name": "stdout",
     "output_type": "stream",
     "text": [
      "blocks_correct_consec==3\n"
     ]
    },
    {
     "name": "stderr",
     "output_type": "stream",
     "text": [
      "run 2:  48%|████▊     | 12/25 [00:00<00:01, 12.41it/s]\n"
     ]
    },
    {
     "name": "stdout",
     "output_type": "stream",
     "text": [
      "blocks_correct_consec==3\n"
     ]
    },
    {
     "name": "stderr",
     "output_type": "stream",
     "text": [
      "run 3:  40%|████      | 10/25 [00:00<00:01, 12.02it/s]\n"
     ]
    },
    {
     "name": "stdout",
     "output_type": "stream",
     "text": [
      "blocks_correct_consec==3\n"
     ]
    },
    {
     "name": "stderr",
     "output_type": "stream",
     "text": [
      "run 4:  64%|██████▍   | 16/25 [00:01<00:00, 12.29it/s]\n"
     ]
    },
    {
     "name": "stdout",
     "output_type": "stream",
     "text": [
      "blocks_correct_consec==3\n"
     ]
    }
   ],
   "source": [
    "# %% standard model simulation of Blair et al. (experiment #2)\n",
    "\n",
    "model = sea.RMC(param)\n",
    "\n",
    "blocks_correct_consec = 0\n",
    "overall_correct = np.zeros([param['TOTAL_BLOCKS']])\n",
    "overall_sampled = np.zeros([param['TOTAL_BLOCKS']])\n",
    "item_order = np.arange(8)\n",
    "totalTransDimSampled = 0\n",
    "totalTransOptimal = 0\n",
    "totalTransOptimalPlusExtra = 0\n",
    "totalTransOther = 0\n",
    "dimSampledFirst = np.array([0, 0, 0])\n",
    "transAccuracy = 0\n",
    "\n",
    "allSamples = []\n",
    "\n",
    "run_num = 0\n",
    "df_nSamplesPerDimTrain = pd.DataFrame(\n",
    "    np.zeros(\n",
    "        (param['NUM_TIMES'], 3)), columns=range(3), index=range(\n",
    "            param['NUM_TIMES']))\n",
    "df_nSamplesPerDimTrans = pd.DataFrame(\n",
    "    np.zeros(\n",
    "        (param['NUM_TIMES'], 3)), columns=range(3), index=range(\n",
    "            param['NUM_TIMES']))\n",
    "while run_num < (param['NUM_TIMES']):\n",
    "    model.Reset()\n",
    "    sim_correct = np.zeros(param['TOTAL_BLOCKS'])\n",
    "    numberDimSampled = np.zeros(param['TOTAL_BLOCKS'])\n",
    "    allSamples.append([])\n",
    "\n",
    "    for num_block in tqdm(range(param['TOTAL_BLOCKS']),desc='run %d'%run_num):\n",
    "        np.random.shuffle(item_order)\n",
    "        blockCorrectProb = 1.0\n",
    "\n",
    "        for item_num in item_order:\n",
    "\n",
    "            tempN = model.PresentStimulus(\n",
    "                BLAIR_STIM[item_num], BLAIR_KNOWN[item_num])\n",
    "            for tn in tempN:\n",
    "                df_nSamplesPerDimTrain.loc[run_num, tn - 1] += 1\n",
    "            SAMPLED_KNOWN = np.zeros(model.NUM_DIMS)\n",
    "            SAMPLED_KNOWN[tempN] = 1\n",
    "\n",
    "            numberDimSampled[num_block] += len(tempN)\n",
    "            correctProb = model.ResponseCorrectProb(\n",
    "                BLAIR_STIM[item_num], SAMPLED_KNOWN)\n",
    "            blockCorrectProb *= correctProb\n",
    "            sim_correct[num_block] += correctProb\n",
    "            model.Learn(\n",
    "                BLAIR_STIM[item_num],\n",
    "                SAMPLED_KNOWN,\n",
    "                BLAIR_QUERY[item_num])\n",
    "\n",
    "        if np.random.uniform(0, 1) < blockCorrectProb:\n",
    "            blocks_correct_consec += 1\n",
    "        else:\n",
    "            blocks_correct_consec = 0\n",
    "        if blocks_correct_consec == param['CONSEC_BLOCKS']:\n",
    "            print('blocks_correct_consec==%d' % param['CONSEC_BLOCKS'])\n",
    "            sim_correct[(num_block + 1):] = 8.\n",
    "            numberDimSampled[(num_block +\n",
    "                              1):] += float(numberDimSampled[num_block])\n",
    "            break\n",
    "\n",
    "    # exclude sims that did not reach accuracy criterion, do 72 trials without\n",
    "    # feedback\n",
    "    nNoLearners = 0\n",
    "    if num_block >= param['TOTAL_BLOCKS']:\n",
    "        nNoLearners += 1\n",
    "        print(\"FAIL: num_block\", num_block, \"run_num\", run_num)\n",
    "    else:\n",
    "        item_order = np.arange(8)\n",
    "        for trans_block in range(9):\n",
    "            for item_num in item_order:\n",
    "                tempN = model.PresentStimulus(\n",
    "                    BLAIR_STIM[item_num], BLAIR_KNOWN[item_num])\n",
    "                for tn in tempN:\n",
    "                    df_nSamplesPerDimTrans.loc[run_num, tn - 1] += 1\n",
    "\n",
    "                allSamples[run_num].append([item_num, tempN])\n",
    "\n",
    "                transAccuracy += model.ResponseCorrectProb(\n",
    "                    BLAIR_STIM[item_num], BLAIR_KNOWN[item_num])\n",
    "\n",
    "                totalTransDimSampled += len(tempN)\n",
    "                dimSampledFirst[tempN[0] - 1] += 1\n",
    "\n",
    "                if item_num < 4:\n",
    "                    if tempN == [1, 2]:\n",
    "                        totalTransOptimal += 1\n",
    "                    elif tempN == [1, 2, 3]:\n",
    "                        totalTransOptimalPlusExtra += 1\n",
    "                    else:\n",
    "                        totalTransOther += 1\n",
    "                else:\n",
    "                    if tempN == [1, 3]:\n",
    "                        totalTransOptimal += 1\n",
    "                    elif tempN == [1, 3, 2]:\n",
    "                        totalTransOptimalPlusExtra += 1\n",
    "                    else:\n",
    "                        totalTransOther += 1\n",
    "        overall_correct += sim_correct\n",
    "        overall_sampled += numberDimSampled\n",
    "        run_num += 1\n",
    "\n"
   ]
  },
  {
   "cell_type": "code",
   "execution_count": 9,
   "metadata": {},
   "outputs": [
    {
     "data": {
      "image/png": "[encoded data removed]",
      "text/plain": [
       "<Figure size 432x288 with 1 Axes>"
      ]
     },
     "metadata": {
      "needs_background": "light"
     },
     "output_type": "display_data"
    }
   ],
   "source": [
    "overall_sampled /= (8. * param['NUM_TIMES'])\n",
    "plt.plot(np.transpose(overall_sampled))\n",
    "plt.legend((\"1\", \"2\", \"3\", \"4\", \"5\", \"6\"))\n",
    "plt.ylabel('nDimensions Sampled',fontsize=15)\n",
    "plt.xlabel('Block',fontsize=15)\n",
    "plt.show()\n",
    "plt.pause(.01)"
   ]
  },
  {
   "cell_type": "code",
   "execution_count": null,
   "metadata": {},
   "outputs": [],
   "source": []
  }
 ],
 "metadata": {
  "kernelspec": {
   "display_name": "Python 3",
   "language": "python",
   "name": "python3"
  },
  "language_info": {
   "codemirror_mode": {
    "name": "ipython",
    "version": 3
   },
   "file_extension": ".py",
   "mimetype": "text/x-python",
   "name": "python",
   "nbconvert_exporter": "python",
   "pygments_lexer": "ipython3",
   "version": "3.7.0"
  }
 },
 "nbformat": 4,
 "nbformat_minor": 2
}
