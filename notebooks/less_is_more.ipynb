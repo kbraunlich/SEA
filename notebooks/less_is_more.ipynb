{
 "cells": [
  {
   "cell_type": "code",
   "execution_count": 1,
   "metadata": {},
   "outputs": [],
   "source": [
    "import numpy as np\n",
    "import matplotlib.pyplot as plt\n",
    "import pandas as pd\n",
    "from tqdm import tqdm\n",
    "import sys\n",
    "sys.path.append('..')\n",
    "import sea"
   ]
  },
  {
   "cell_type": "code",
   "execution_count": 2,
   "metadata": {},
   "outputs": [],
   "source": [
    "# %% simulation parameters\n",
    "param = {\n",
    "    'MAX_RECURSION_LEVEL':  0, # 0 is myopic (necessary in high D)\n",
    "    'EXPLORATION_PARAM':    0.0,\n",
    "    'DECISION_PARAMETER':   1.0,\n",
    "    'TOTAL_BLOCKS':         100,\n",
    "    'CONSEC_BLOCKS':        2,\n",
    "    'num_dims':             100,\n",
    "    'num_values':           2,\n",
    "    'coupling':             .3,\n",
    "    'd':                    1.0,\n",
    "    'report':               False,\n",
    "    'NUM_TIMES':            5,\n",
    "    'TRIAL_PER_BLOCK':      10,\n",
    "}\n",
    "\n",
    "param['prior_matrix'] = np.array([[1.0, 1.0]] * param['num_dims'])\n",
    "param['prior_matrix'][0, 0] = .01\n",
    "param['prior_matrix'][0, 1] = .01"
   ]
  },
  {
   "cell_type": "code",
   "execution_count": 3,
   "metadata": {},
   "outputs": [],
   "source": [
    "# functions for computing utility:\n",
    "\n",
    "\n",
    "def getSituationCost(KNOWN_VEC, param):\n",
    "    '''function to calculate costs for a given KNOWN_VEC (see RMC.SituationValue)\n",
    "\n",
    "    This function assumes equal costs for each query. Can be modified for\n",
    "    tasks in which some tests are more costly than others, or when sampling costs\n",
    "    are not independent.'''\n",
    "\n",
    "    return np.sum(KNOWN_VEC) * 10\n",
    "\n",
    "\n",
    "def dfActionVals(param):\n",
    "    '''function to define utility table (e.g., table 1)\n",
    "\n",
    "    When asym is True, this currently maximizes accuracy (i.e., correct=100\n",
    "    utility units, incorrect=0 utility units).\n",
    "\n",
    "    This function should be modified to reflect utility and cost associated\n",
    "    with the final choice.'''\n",
    "\n",
    "    m = np.diag([100] * param['num_values'])\n",
    "    df = pd.DataFrame(index=['s%d' % a for a in range(param['num_values'])],\n",
    "                      columns=['a%d' % a for a in range(param['num_values'])],\n",
    "                      data=m)\n",
    "    return df\n",
    "\n",
    "\n",
    "param['getSituationCost'] = getSituationCost\n",
    "param['dfActionVals'] = dfActionVals(param)"
   ]
  },
  {
   "cell_type": "code",
   "execution_count": 4,
   "metadata": {
    "scrolled": true
   },
   "outputs": [
    {
     "name": "stderr",
     "output_type": "stream",
     "text": [
      "run0: 100%|██████████| 100/100 [02:25<00:00,  1.18s/it]\n",
      "run1: 100%|██████████| 100/100 [02:40<00:00,  1.40s/it]\n",
      "run2: 100%|██████████| 100/100 [02:21<00:00,  1.19s/it]\n",
      "run3: 100%|██████████| 100/100 [02:04<00:00,  1.15s/it]\n",
      "run4: 100%|██████████| 100/100 [02:21<00:00,  1.20s/it]\n"
     ]
    }
   ],
   "source": [
    "# %% STANDARD MODEL (ACTIVE SAMPLING)\n",
    "\n",
    "model = sea.RMC(param)\n",
    "\n",
    "overall_correct = np.zeros([param['TOTAL_BLOCKS']])\n",
    "overall_sampled = np.zeros([param['TOTAL_BLOCKS']])\n",
    "\n",
    "KNOWN = np.ones(model.NUM_DIMS).astype(int)\n",
    "KNOWN[0] = 0    # the category label\n",
    "QUERY = np.zeros(model.NUM_DIMS)\n",
    "QUERY[0] = 1\n",
    "\n",
    "dfC = pd.DataFrame(\n",
    "    index=range(\n",
    "        param['NUM_TIMES']), columns=range(\n",
    "            param['TOTAL_BLOCKS']))\n",
    "dfS = pd.DataFrame(\n",
    "    index=range(\n",
    "        param['NUM_TIMES']), columns=range(\n",
    "            param['TOTAL_BLOCKS']))\n",
    "\n",
    "for run_num in range(param['NUM_TIMES']):\n",
    "\n",
    "    model.Reset()\n",
    "\n",
    "    tr = 0\n",
    "    for num_block in tqdm(range(param['TOTAL_BLOCKS']),\n",
    "                          desc='run%d'%run_num):\n",
    "        nS = 0\n",
    "        nC = 0\n",
    "        for i in range(param['TRIAL_PER_BLOCK']):\n",
    "\n",
    "            tr += 1\n",
    "\n",
    "            STIM = np.random.random(model.NUM_DIMS)\n",
    "            STIM = STIM > .5\n",
    "            if STIM[1]:  # category label.\n",
    "                STIM[0] = 1\n",
    "            else:\n",
    "                STIM[0] = 0\n",
    "\n",
    "            STIM = STIM.astype(int)\n",
    "\n",
    "            tempN = model.PresentStimulus(STIM, KNOWN)\n",
    "\n",
    "            SAMPLED_KNOWN = np.zeros(model.NUM_DIMS)\n",
    "            SAMPLED_KNOWN[tempN] = 1\n",
    "\n",
    "            nS += len(tempN)\n",
    "            overall_sampled[num_block] += len(tempN)\n",
    "            vC = model.ResponseCorrectProb(STIM, SAMPLED_KNOWN)\n",
    "            nC += vC\n",
    "            overall_correct[num_block] += vC\n",
    "            model.Learn(STIM, SAMPLED_KNOWN, QUERY)\n",
    "\n",
    "        dfS.loc[run_num, num_block] = nS / param['TRIAL_PER_BLOCK']\n",
    "        dfC.loc[run_num, num_block] = nC / param['TRIAL_PER_BLOCK']\n",
    "\n",
    "overall_correct /= (param['TRIAL_PER_BLOCK'] * param['NUM_TIMES'])\n",
    "overall_sampled /= (param['TRIAL_PER_BLOCK'] * param['NUM_TIMES'])\n",
    "\n"
   ]
  },
  {
   "cell_type": "code",
   "execution_count": 7,
   "metadata": {},
   "outputs": [
    {
     "data": {
      "image/png": "[encoded data removed]",
      "text/plain": [
       "<Figure size 234x180 with 1 Axes>"
      ]
     },
     "metadata": {
      "needs_background": "light"
     },
     "output_type": "display_data"
    },
    {
     "data": {
      "image/png": "[encoded data removed]",
      "text/plain": [
       "<Figure size 234x180 with 1 Axes>"
      ]
     },
     "metadata": {
      "needs_background": "light"
     },
     "output_type": "display_data"
    }
   ],
   "source": [
    "# figures\n",
    "\n",
    "bk = 1\n",
    "col = ['b', 'k'][bk]\n",
    "\n",
    "plt.figure(figsize=(3.25, 2.5))\n",
    "plt.plot(dfC.T, color=['#b3ccff', '#808080']\n",
    "         [bk], linewidth=.3)  # ,legend=False)\n",
    "mn = dfC.mean()\n",
    "plt.plot(mn, ['#0000ff', '#404040'][bk])\n",
    "plt.xlabel('Block')\n",
    "plt.ylabel('Percent Correct')\n",
    "plt.tight_layout()\n",
    "plt.show();plt.pause(.01)\n",
    "\n",
    "plt.figure(figsize=(3.25, 2.5))\n",
    "plt.plot(dfS.T, color=['#b3ccff', '#808080']\n",
    "         [bk], linewidth=.3)  # ,legend=False)\n",
    "mn = np.mean(dfS, axis=0).values\n",
    "plt.plot(mn, ['#0000ff', '#404040'][bk])\n",
    "plt.yticks([1, 2, 3, 4])\n",
    "plt.xlabel('Block')\n",
    "plt.ylabel('nDimensions Sampled')\n",
    "plt.tight_layout()\n",
    "plt.show();plt.pause(.01)\n"
   ]
  },
  {
   "cell_type": "code",
   "execution_count": null,
   "metadata": {},
   "outputs": [],
   "source": []
  }
 ],
 "metadata": {
  "kernelspec": {
   "display_name": "Python 3",
   "language": "python",
   "name": "python3"
  },
  "language_info": {
   "codemirror_mode": {
    "name": "ipython",
    "version": 3
   },
   "file_extension": ".py",
   "mimetype": "text/x-python",
   "name": "python",
   "nbconvert_exporter": "python",
   "pygments_lexer": "ipython3",
   "version": "3.7.0"
  }
 },
 "nbformat": 4,
 "nbformat_minor": 2
}
